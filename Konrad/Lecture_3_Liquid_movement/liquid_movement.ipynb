{
 "cells": [
  {
   "cell_type": "markdown",
   "id": "bb3fbbc5",
   "metadata": {},
   "source": [
    "# Liquid movement\n",
    "\n",
    "Begin by importing the relevant packages."
   ]
  },
  {
   "cell_type": "code",
   "execution_count": null,
   "id": "752097cd",
   "metadata": {},
   "outputs": [
    {
     "name": "stdout",
     "output_type": "stream",
     "text": [
      "(CVXPY) Sep 05 01:42:44 PM: Encountered unexpected exception importing solver MOSEK:\n",
      "AttributeError(\"module 'mosek' has no attribute 'conetype'\")\n"
     ]
    }
   ],
   "source": [
    "import numpy as np; import control as ctrl; import cvxpy as cp"
   ]
  },
  {
   "cell_type": "markdown",
   "id": "fbfc4024",
   "metadata": {},
   "source": [
    "Next, define the continuous-time system dynamics and represent it as a state-space object."
   ]
  },
  {
   "cell_type": "code",
   "execution_count": null,
   "id": "add6c61d",
   "metadata": {},
   "outputs": [],
   "source": [
    "zeta=0; omega0=21; a=0.07; g=9.81; L=0.2;\n",
    "Ac=np.array([[-2*zeta*omega0, -omega0, 0, 0],[omega0, 0, 0, 0],[0, 0, 0, 0],[0, 0, 1, 0]])\n",
    "Bc=np.array([[a*omega0/(2*g),0,1,0]]).T; Cc=np.array([[0,1,0,0],[0,0,0,1]]); Dc=np.array([[0,0]]).T\n",
    "sysc=ctrl.ss(Ac,Bc,Cc,Dc)"
   ]
  },
  {
   "cell_type": "markdown",
   "id": "491cdf7f",
   "metadata": {},
   "source": [
    "Choose sampling time, convert to discrete-time and extract system matrices."
   ]
  },
  {
   "cell_type": "code",
   "execution_count": null,
   "id": "7cd201d6",
   "metadata": {},
   "outputs": [],
   "source": [
    "h=1e-3\n",
    "sysd=ctrl.c2d(sysc,h)\n",
    "(A,B,C,D)=ctrl.ssdata(sysd)"
   ]
  },
  {
   "cell_type": "markdown",
   "id": "11d4055c",
   "metadata": {},
   "source": [
    "Define optimal control problem using cvxpy.\n"
   ]
  },
  {
   "cell_type": "code",
   "execution_count": null,
   "id": "4d3d2e58",
   "metadata": {},
   "outputs": [
    {
     "ename": "SolverError",
     "evalue": "The solver MOSEK is not installed.",
     "output_type": "error",
     "traceback": [
      "\u001b[0;31m---------------------------------------------------------------------------\u001b[0m",
      "\u001b[0;31mSolverError\u001b[0m                               Traceback (most recent call last)",
      "Cell \u001b[0;32mIn[6], line 18\u001b[0m\n\u001b[1;32m     15\u001b[0m constr\u001b[39m+\u001b[39m\u001b[39m=\u001b[39m [ x[:,[T]]\u001b[39m==\u001b[39mxT]\n\u001b[1;32m     17\u001b[0m problem\u001b[39m=\u001b[39mcp\u001b[39m.\u001b[39mProblem(cp\u001b[39m.\u001b[39mMinimize(cost), constr);\n\u001b[0;32m---> 18\u001b[0m problem\u001b[39m.\u001b[39;49msolve(solver\u001b[39m=\u001b[39;49m\u001b[39m'\u001b[39;49m\u001b[39mMOSEK\u001b[39;49m\u001b[39m'\u001b[39;49m);\n",
      "File \u001b[0;32m/usr/local/lib/python3.10/site-packages/cvxpy/problems/problem.py:493\u001b[0m, in \u001b[0;36mProblem.solve\u001b[0;34m(self, *args, **kwargs)\u001b[0m\n\u001b[1;32m    491\u001b[0m \u001b[39melse\u001b[39;00m:\n\u001b[1;32m    492\u001b[0m     solve_func \u001b[39m=\u001b[39m Problem\u001b[39m.\u001b[39m_solve\n\u001b[0;32m--> 493\u001b[0m \u001b[39mreturn\u001b[39;00m solve_func(\u001b[39mself\u001b[39;49m, \u001b[39m*\u001b[39;49margs, \u001b[39m*\u001b[39;49m\u001b[39m*\u001b[39;49mkwargs)\n",
      "File \u001b[0;32m/usr/local/lib/python3.10/site-packages/cvxpy/problems/problem.py:1054\u001b[0m, in \u001b[0;36mProblem._solve\u001b[0;34m(self, solver, warm_start, verbose, gp, qcp, requires_grad, enforce_dpp, ignore_dpp, canon_backend, **kwargs)\u001b[0m\n\u001b[1;32m   1051\u001b[0m         \u001b[39mself\u001b[39m\u001b[39m.\u001b[39munpack(chain\u001b[39m.\u001b[39mretrieve(soln))\n\u001b[1;32m   1052\u001b[0m         \u001b[39mreturn\u001b[39;00m \u001b[39mself\u001b[39m\u001b[39m.\u001b[39mvalue\n\u001b[0;32m-> 1054\u001b[0m data, solving_chain, inverse_data \u001b[39m=\u001b[39m \u001b[39mself\u001b[39;49m\u001b[39m.\u001b[39;49mget_problem_data(\n\u001b[1;32m   1055\u001b[0m     solver, gp, enforce_dpp, ignore_dpp, verbose, canon_backend, kwargs\n\u001b[1;32m   1056\u001b[0m )\n\u001b[1;32m   1058\u001b[0m \u001b[39mif\u001b[39;00m verbose:\n\u001b[1;32m   1059\u001b[0m     \u001b[39mprint\u001b[39m(_NUM_SOLVER_STR)\n",
      "File \u001b[0;32m/usr/local/lib/python3.10/site-packages/cvxpy/problems/problem.py:631\u001b[0m, in \u001b[0;36mProblem.get_problem_data\u001b[0;34m(self, solver, gp, enforce_dpp, ignore_dpp, verbose, canon_backend, solver_opts)\u001b[0m\n\u001b[1;32m    629\u001b[0m \u001b[39mif\u001b[39;00m key \u001b[39m!=\u001b[39m \u001b[39mself\u001b[39m\u001b[39m.\u001b[39m_cache\u001b[39m.\u001b[39mkey:\n\u001b[1;32m    630\u001b[0m     \u001b[39mself\u001b[39m\u001b[39m.\u001b[39m_cache\u001b[39m.\u001b[39minvalidate()\n\u001b[0;32m--> 631\u001b[0m     solving_chain \u001b[39m=\u001b[39m \u001b[39mself\u001b[39;49m\u001b[39m.\u001b[39;49m_construct_chain(\n\u001b[1;32m    632\u001b[0m         solver\u001b[39m=\u001b[39;49msolver, gp\u001b[39m=\u001b[39;49mgp,\n\u001b[1;32m    633\u001b[0m         enforce_dpp\u001b[39m=\u001b[39;49menforce_dpp,\n\u001b[1;32m    634\u001b[0m         ignore_dpp\u001b[39m=\u001b[39;49mignore_dpp,\n\u001b[1;32m    635\u001b[0m         canon_backend\u001b[39m=\u001b[39;49mcanon_backend,\n\u001b[1;32m    636\u001b[0m         solver_opts\u001b[39m=\u001b[39;49msolver_opts)\n\u001b[1;32m    637\u001b[0m     \u001b[39mself\u001b[39m\u001b[39m.\u001b[39m_cache\u001b[39m.\u001b[39mkey \u001b[39m=\u001b[39m key\n\u001b[1;32m    638\u001b[0m     \u001b[39mself\u001b[39m\u001b[39m.\u001b[39m_cache\u001b[39m.\u001b[39msolving_chain \u001b[39m=\u001b[39m solving_chain\n",
      "File \u001b[0;32m/usr/local/lib/python3.10/site-packages/cvxpy/problems/problem.py:881\u001b[0m, in \u001b[0;36mProblem._construct_chain\u001b[0;34m(self, solver, gp, enforce_dpp, ignore_dpp, canon_backend, solver_opts)\u001b[0m\n\u001b[1;32m    839\u001b[0m \u001b[39mdef\u001b[39;00m \u001b[39m_construct_chain\u001b[39m(\n\u001b[1;32m    840\u001b[0m         \u001b[39mself\u001b[39m,\n\u001b[1;32m    841\u001b[0m         solver: Optional[\u001b[39mstr\u001b[39m] \u001b[39m=\u001b[39m \u001b[39mNone\u001b[39;00m,\n\u001b[0;32m   (...)\u001b[0m\n\u001b[1;32m    846\u001b[0m         solver_opts: Optional[\u001b[39mdict\u001b[39m] \u001b[39m=\u001b[39m \u001b[39mNone\u001b[39;00m\n\u001b[1;32m    847\u001b[0m ) \u001b[39m-\u001b[39m\u001b[39m>\u001b[39m SolvingChain:\n\u001b[1;32m    848\u001b[0m \u001b[39m    \u001b[39m\u001b[39m\"\"\"\u001b[39;00m\n\u001b[1;32m    849\u001b[0m \u001b[39m    Construct the chains required to reformulate and solve the problem.\u001b[39;00m\n\u001b[1;32m    850\u001b[0m \n\u001b[0;32m   (...)\u001b[0m\n\u001b[1;32m    879\u001b[0m \u001b[39m    A solving chain\u001b[39;00m\n\u001b[1;32m    880\u001b[0m \u001b[39m    \"\"\"\u001b[39;00m\n\u001b[0;32m--> 881\u001b[0m     candidate_solvers \u001b[39m=\u001b[39m \u001b[39mself\u001b[39;49m\u001b[39m.\u001b[39;49m_find_candidate_solvers(solver\u001b[39m=\u001b[39;49msolver, gp\u001b[39m=\u001b[39;49mgp)\n\u001b[1;32m    882\u001b[0m     \u001b[39mself\u001b[39m\u001b[39m.\u001b[39m_sort_candidate_solvers(candidate_solvers)\n\u001b[1;32m    883\u001b[0m     \u001b[39mreturn\u001b[39;00m construct_solving_chain(\u001b[39mself\u001b[39m, candidate_solvers, gp\u001b[39m=\u001b[39mgp,\n\u001b[1;32m    884\u001b[0m                                    enforce_dpp\u001b[39m=\u001b[39menforce_dpp,\n\u001b[1;32m    885\u001b[0m                                    ignore_dpp\u001b[39m=\u001b[39mignore_dpp,\n\u001b[1;32m    886\u001b[0m                                    canon_backend\u001b[39m=\u001b[39mcanon_backend,\n\u001b[1;32m    887\u001b[0m                                    solver_opts\u001b[39m=\u001b[39msolver_opts)\n",
      "File \u001b[0;32m/usr/local/lib/python3.10/site-packages/cvxpy/problems/problem.py:744\u001b[0m, in \u001b[0;36mProblem._find_candidate_solvers\u001b[0;34m(self, solver, gp)\u001b[0m\n\u001b[1;32m    742\u001b[0m \u001b[39mif\u001b[39;00m solver \u001b[39mis\u001b[39;00m \u001b[39mnot\u001b[39;00m \u001b[39mNone\u001b[39;00m:\n\u001b[1;32m    743\u001b[0m     \u001b[39mif\u001b[39;00m solver \u001b[39mnot\u001b[39;00m \u001b[39min\u001b[39;00m slv_def\u001b[39m.\u001b[39mINSTALLED_SOLVERS:\n\u001b[0;32m--> 744\u001b[0m         \u001b[39mraise\u001b[39;00m error\u001b[39m.\u001b[39mSolverError(\u001b[39m\"\u001b[39m\u001b[39mThe solver \u001b[39m\u001b[39m%s\u001b[39;00m\u001b[39m is not installed.\u001b[39m\u001b[39m\"\u001b[39m \u001b[39m%\u001b[39m solver)\n\u001b[1;32m    745\u001b[0m     \u001b[39mif\u001b[39;00m solver \u001b[39min\u001b[39;00m slv_def\u001b[39m.\u001b[39mCONIC_SOLVERS:\n\u001b[1;32m    746\u001b[0m         candidates[\u001b[39m'\u001b[39m\u001b[39mconic_solvers\u001b[39m\u001b[39m'\u001b[39m] \u001b[39m+\u001b[39m\u001b[39m=\u001b[39m [solver]\n",
      "\u001b[0;31mSolverError\u001b[0m: The solver MOSEK is not installed."
     ]
    }
   ],
   "source": [
    "(n,m)=B.shape\n",
    "\n",
    "Tf=0.383; T = int(Tf/h)\n",
    "smax=0.035; umax=g\n",
    "x0=np.array([[0,0,0,0]]).T; xT=np.array([[0,0,0,L]]).T;\n",
    "\n",
    "x=cp.Variable((n,T+1))\n",
    "u=cp.Variable((m,T))\n",
    "cost=cp.sum_squares(u)\n",
    "constr = [ x[:,[0]]==x0 ]\n",
    "for t in range(T):\n",
    "    constr+=[ x[:,t+1]==A@x[:,t]+B@u[:,t]]\n",
    "    constr+=[-umax<= u[:,t], u[:,t]<=umax]\n",
    "    constr+=[-smax<=C[0,:]@x[:,t], C[0,:]@x[:,t]<=smax]\n",
    "constr+= [ x[:,[T]]==xT]\n",
    "print(\"constr\")\n",
    "print(constr)\n",
    "exit()\n",
    "problem=cp.Problem(cp.Minimize(cost), constr);\n",
    "problem.solve(solver='MOSEK');"
   ]
  },
  {
   "cell_type": "markdown",
   "id": "65544897",
   "metadata": {},
   "source": [
    "Finally, plot the resulting optimal solution and associated state trajectories."
   ]
  },
  {
   "cell_type": "code",
   "execution_count": null,
   "id": "753a79b1",
   "metadata": {},
   "outputs": [
    {
     "ename": "ValueError",
     "evalue": "x, y, and format string must not be None",
     "output_type": "error",
     "traceback": [
      "\u001b[0;31m---------------------------------------------------------------------------\u001b[0m",
      "\u001b[0;31mValueError\u001b[0m                                Traceback (most recent call last)",
      "Cell \u001b[0;32mIn[7], line 5\u001b[0m\n\u001b[1;32m      3\u001b[0m fig, axs \u001b[39m=\u001b[39m plt\u001b[39m.\u001b[39msubplots(\u001b[39m3\u001b[39m)\n\u001b[1;32m      4\u001b[0m fig\u001b[39m.\u001b[39msuptitle(\u001b[39m'\u001b[39m\u001b[39mState trajectories and controls\u001b[39m\u001b[39m'\u001b[39m)\n\u001b[0;32m----> 5\u001b[0m axs[\u001b[39m0\u001b[39;49m]\u001b[39m.\u001b[39;49mplot(x[\u001b[39m1\u001b[39;49m,:]\u001b[39m.\u001b[39;49mvalue)\n\u001b[1;32m      6\u001b[0m axs[\u001b[39m0\u001b[39m]\u001b[39m.\u001b[39mset_ylabel(\u001b[39m'\u001b[39m\u001b[39msurface\u001b[39m\u001b[39m'\u001b[39m)\n\u001b[1;32m      7\u001b[0m axs[\u001b[39m0\u001b[39m]\u001b[39m.\u001b[39mset_yticks([\u001b[39m-\u001b[39m\u001b[39m0.035\u001b[39m, \u001b[39m0\u001b[39m, \u001b[39m0.035\u001b[39m])\n",
      "File \u001b[0;32m/usr/local/lib/python3.10/site-packages/matplotlib/axes/_axes.py:1688\u001b[0m, in \u001b[0;36mAxes.plot\u001b[0;34m(self, scalex, scaley, data, *args, **kwargs)\u001b[0m\n\u001b[1;32m   1445\u001b[0m \u001b[39m\u001b[39m\u001b[39m\"\"\"\u001b[39;00m\n\u001b[1;32m   1446\u001b[0m \u001b[39mPlot y versus x as lines and/or markers.\u001b[39;00m\n\u001b[1;32m   1447\u001b[0m \n\u001b[0;32m   (...)\u001b[0m\n\u001b[1;32m   1685\u001b[0m \u001b[39m(``'green'``) or hex strings (``'#008000'``).\u001b[39;00m\n\u001b[1;32m   1686\u001b[0m \u001b[39m\"\"\"\u001b[39;00m\n\u001b[1;32m   1687\u001b[0m kwargs \u001b[39m=\u001b[39m cbook\u001b[39m.\u001b[39mnormalize_kwargs(kwargs, mlines\u001b[39m.\u001b[39mLine2D)\n\u001b[0;32m-> 1688\u001b[0m lines \u001b[39m=\u001b[39m [\u001b[39m*\u001b[39m\u001b[39mself\u001b[39m\u001b[39m.\u001b[39m_get_lines(\u001b[39m*\u001b[39margs, data\u001b[39m=\u001b[39mdata, \u001b[39m*\u001b[39m\u001b[39m*\u001b[39mkwargs)]\n\u001b[1;32m   1689\u001b[0m \u001b[39mfor\u001b[39;00m line \u001b[39min\u001b[39;00m lines:\n\u001b[1;32m   1690\u001b[0m     \u001b[39mself\u001b[39m\u001b[39m.\u001b[39madd_line(line)\n",
      "File \u001b[0;32m/usr/local/lib/python3.10/site-packages/matplotlib/axes/_base.py:311\u001b[0m, in \u001b[0;36m_process_plot_var_args.__call__\u001b[0;34m(self, data, *args, **kwargs)\u001b[0m\n\u001b[1;32m    309\u001b[0m     this \u001b[39m+\u001b[39m\u001b[39m=\u001b[39m args[\u001b[39m0\u001b[39m],\n\u001b[1;32m    310\u001b[0m     args \u001b[39m=\u001b[39m args[\u001b[39m1\u001b[39m:]\n\u001b[0;32m--> 311\u001b[0m \u001b[39myield from\u001b[39;00m \u001b[39mself\u001b[39;49m\u001b[39m.\u001b[39;49m_plot_args(\n\u001b[1;32m    312\u001b[0m     this, kwargs, ambiguous_fmt_datakey\u001b[39m=\u001b[39;49mambiguous_fmt_datakey)\n",
      "File \u001b[0;32m/usr/local/lib/python3.10/site-packages/matplotlib/axes/_base.py:465\u001b[0m, in \u001b[0;36m_process_plot_var_args._plot_args\u001b[0;34m(self, tup, kwargs, return_kwargs, ambiguous_fmt_datakey)\u001b[0m\n\u001b[1;32m    462\u001b[0m \u001b[39m# Don't allow any None value; these would be up-converted to one\u001b[39;00m\n\u001b[1;32m    463\u001b[0m \u001b[39m# element array of None which causes problems downstream.\u001b[39;00m\n\u001b[1;32m    464\u001b[0m \u001b[39mif\u001b[39;00m \u001b[39many\u001b[39m(v \u001b[39mis\u001b[39;00m \u001b[39mNone\u001b[39;00m \u001b[39mfor\u001b[39;00m v \u001b[39min\u001b[39;00m tup):\n\u001b[0;32m--> 465\u001b[0m     \u001b[39mraise\u001b[39;00m \u001b[39mValueError\u001b[39;00m(\u001b[39m\"\u001b[39m\u001b[39mx, y, and format string must not be None\u001b[39m\u001b[39m\"\u001b[39m)\n\u001b[1;32m    467\u001b[0m kw \u001b[39m=\u001b[39m {}\n\u001b[1;32m    468\u001b[0m \u001b[39mfor\u001b[39;00m prop_name, val \u001b[39min\u001b[39;00m \u001b[39mzip\u001b[39m((\u001b[39m'\u001b[39m\u001b[39mlinestyle\u001b[39m\u001b[39m'\u001b[39m, \u001b[39m'\u001b[39m\u001b[39mmarker\u001b[39m\u001b[39m'\u001b[39m, \u001b[39m'\u001b[39m\u001b[39mcolor\u001b[39m\u001b[39m'\u001b[39m),\n\u001b[1;32m    469\u001b[0m                           (linestyle, marker, color)):\n",
      "\u001b[0;31mValueError\u001b[0m: x, y, and format string must not be None"
     ]
    },
    {
     "data": {
      "image/png": "[encoded data removed]",
      "text/plain": [
       "<Figure size 640x480 with 3 Axes>"
      ]
     },
     "metadata": {},
     "output_type": "display_data"
    }
   ],
   "source": [
    "import matplotlib.pyplot as plt\n",
    "# Plot results\n",
    "fig, axs = plt.subplots(3)\n",
    "fig.suptitle('State trajectories and controls')\n",
    "axs[0].plot(x[1,:].value)\n",
    "axs[0].set_ylabel('surface')\n",
    "axs[0].set_yticks([-0.035, 0, 0.035])\n",
    "axs[1].plot(x[3,:].value)\n",
    "axs[1].set_ylabel('carton position')\n",
    "axs[2].plot(u[0,:].value)\n",
    "axs[2].set_ylabel('u');\n",
    "axs[2].set_xlabel('Sample index')"
   ]
  },
  {
   "cell_type": "code",
   "execution_count": null,
   "id": "6351cc84",
   "metadata": {},
   "outputs": [],
   "source": []
  },
  {
   "cell_type": "code",
   "execution_count": null,
   "id": "4c3dff0b",
   "metadata": {},
   "outputs": [],
   "source": []
  }
 ],
 "metadata": {
  "kernelspec": {
   "display_name": "Python 3 (ipykernel)",
   "language": "python",
   "name": "python3"
  },
  "language_info": {
   "codemirror_mode": {
    "name": "ipython",
    "version": 3
   },
   "file_extension": ".py",
   "mimetype": "text/x-python",
   "name": "python",
   "nbconvert_exporter": "python",
   "pygments_lexer": "ipython3",
   "version": "3.10.9"
  }
 },
 "nbformat": 4,
 "nbformat_minor": 5
}
