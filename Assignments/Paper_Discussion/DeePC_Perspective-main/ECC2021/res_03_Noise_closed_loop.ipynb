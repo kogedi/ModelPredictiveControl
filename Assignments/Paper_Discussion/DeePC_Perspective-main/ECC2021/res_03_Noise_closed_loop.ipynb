{
 "cells": [
  {
   "cell_type": "markdown",
   "metadata": {},
   "source": [
    "# Non-Deterministic case: DeePC vs. SPC\n",
    "\n",
    "Comparing the closed-loop cost and computation time.\n",
    "\n",
    "This notebook is used to create the results for **Table 1** in our paper."
   ]
  },
  {
   "cell_type": "code",
   "execution_count": 1,
   "metadata": {},
   "outputs": [],
   "source": [
    "import numpy as np\n",
    "import matplotlib.pyplot as plt\n",
    "import matplotlib as mpl\n",
    "import scipy.io as sio\n",
    "from casadi import *\n",
    "from casadi.tools import *\n",
    "import time"
   ]
  },
  {
   "cell_type": "code",
   "execution_count": 2,
   "metadata": {},
   "outputs": [],
   "source": [
    "# Random seed:\n",
    "np.random.seed(1234)"
   ]
  },
  {
   "cell_type": "code",
   "execution_count": 3,
   "metadata": {},
   "outputs": [],
   "source": [
    "# Customizing Matplotlib:\n",
    "mpl.rcParams['font.size'] = 18\n",
    "mpl.rcParams['lines.linewidth'] = 3\n",
    "mpl.rcParams['axes.grid'] = True\n",
    "mpl.rcParams['svg.fonttype'] = 'none'\n",
    "mpl.rcParams['axes.unicode_minus'] = 'true'\n",
    "mpl.rcParams['axes.labelsize'] = 'large'\n",
    "mpl.rcParams['legend.fontsize'] = 'large'\n",
    "mpl.rcParams['xtick.labelsize'] = 'large'\n",
    "mpl.rcParams['ytick.labelsize'] = 'large'\n",
    "mpl.rcParams['axes.labelpad'] = 6"
   ]
  },
  {
   "cell_type": "markdown",
   "metadata": {},
   "source": [
    "##  System description\n",
    "\n",
    "\n",
    "We  now introduce the following linear system subject to zero-mean Gaussian noise $w_k\\sim \\mathcal{N}(0,\\sigma_w^2 I)$:\n",
    "\n",
    "\\begin{align}\n",
    "x_{k+1} &= Ax_k + Bu_k\\\\\n",
    "y_k &= Cx_k+Du_k+w_k,\n",
    "\\end{align}\n",
    "\n",
    "with $x \\in \\mathbb{R}^n$ (states), $u\\in \\mathbb{R}^m$ (inputs), $y\\in \\mathbb{R}^p$ (measurements) and system matrices $A \\in \\mathbb{R}^{n\\times n}$, $B \\in \\mathbb{R}^{n\\times m}$, $C \\in \\mathbb{R}^{p\\times n}$ and $D \\in \\mathbb{R}^{p\\times m}$.\n",
    "\n",
    "The investigated system, displayed below, is a triple-mass-spring system (rotating discs) with two stepper motors ($m=2$) attached to the outermost discs via additional springs. These disc angles are the measured output of the system ($p=3$). The system has a total of $n=8$ states."
   ]
  },
  {
   "cell_type": "markdown",
   "metadata": {},
   "source": [
    "<img src=\"sources/triple_mass_spring.pdf\" width=40%/>"
   ]
  },
  {
   "cell_type": "markdown",
   "metadata": {},
   "source": [
    "To simulate the system, we created a very simple helper class, that keeps the current state and stores the past sequences of inputs, states and outputs.\n",
    "\n",
    "We import the system class with:"
   ]
  },
  {
   "cell_type": "code",
   "execution_count": 4,
   "metadata": {},
   "outputs": [],
   "source": [
    "import sys\n",
    "# Add subfolder sources to path.\n",
    "sys.path.append('./sources')\n",
    "# Import class 'System' from file System.py\n",
    "from sources.System import System, random_u"
   ]
  },
  {
   "cell_type": "markdown",
   "metadata": {},
   "source": [
    "In contrast to our notebook ``res_01_woNoise.ipynb`` we also import here the helper function ``random_u`` to stimulate the system with an PRBS-like input."
   ]
  },
  {
   "cell_type": "markdown",
   "metadata": {},
   "source": [
    "Import system matrices, $A,B,C,D$ and create instance of ``System``:"
   ]
  },
  {
   "cell_type": "code",
   "execution_count": 5,
   "metadata": {},
   "outputs": [
    {
     "name": "stdout",
     "output_type": "stream",
     "text": [
      "A [[1.  0.5]\n",
      " [0.  1. ]]\n",
      "B [[1.]\n",
      " [0.]]\n",
      "C [[1. 0.]]\n",
      "D [[0. 0.]]\n"
     ]
    }
   ],
   "source": [
    "# sys_dc = sio.loadmat('./sources/sys_dc.mat')\n",
    "# A = sys_dc['A_dc']\n",
    "# B = sys_dc['B_dc']\n",
    "# C = sys_dc['C']\n",
    "# D = sys_dc['D']\n",
    "# Definition of a double integrator system\n",
    "A = np.zeros((2,2))\n",
    "B = np.zeros((2,1))\n",
    "C = np.zeros((1,2))\n",
    "D = np.zeros((1,2))\n",
    "\n",
    "A[0,0] = 1\n",
    "A[0,1] = 0.5\n",
    "A[1,1] = 1\n",
    "B[0] = 1\n",
    "C[0,0] = 1\n",
    "\n",
    "\n",
    "print(\"A\",A)\n",
    "print(\"B\",B)\n",
    "print(\"C\",C)\n",
    "print(\"D\",D)\n",
    "\n",
    "sys = System(A,B,C,D)"
   ]
  },
  {
   "cell_type": "markdown",
   "metadata": {},
   "source": [
    "# DeePC vs. SPC"
   ]
  },
  {
   "cell_type": "markdown",
   "metadata": {},
   "source": [
    "## Data collection\n",
    "\n",
    "Both methods require a measured system response for persistantly exciting input data, depending on the parameters:\n",
    "$T_{\\text{ini}}$ and $N$.\n",
    "The total number of measured sequences depends on these parameters and must exceed the thresholds given by Assumption 1, 2 and 3 in the paper. \n",
    "\n",
    "We first set the fixed parameters. **Note that we also set $\\sigma_w$, the standard deviation of $w$**."
   ]
  },
  {
   "cell_type": "code",
   "execution_count": 6,
   "metadata": {},
   "outputs": [],
   "source": [
    "T_ini = 4\n",
    "N = 40\n",
    "\n",
    "L = T_ini + N\n",
    "\n",
    "n_u = sys.n_u\n",
    "n_y = sys.n_y\n",
    "\n",
    "sig_w = 1.5e-1#1e-2"
   ]
  },
  {
   "cell_type": "markdown",
   "metadata": {},
   "source": [
    "Create matrices $U_L$ and $Y_L$ according to (2) in the paper. Note that we construct the data matrices which are neither Hankel nor Page matrices. Instead we \"measure\" independent sequences each with **random initial state**.\n",
    "\n",
    "In contrast to our notebook ``res_01_woNoise`` we define here a function to obtain these matrices in dependence of the parameter ``T`` (number of sequences) and ``sig_w``."
   ]
  },
  {
   "cell_type": "code",
   "execution_count": 7,
   "metadata": {},
   "outputs": [],
   "source": [
    "def get_data_matrices(T, sig_w):\n",
    "    U_L = []\n",
    "    Y_L = []\n",
    "    \n",
    "    sys = System(A,B,C,D)\n",
    "    \n",
    "    u0 = np.zeros((sys.n_u,1))\n",
    "\n",
    "    for k in range(T):\n",
    "        x0 = np.random.randn(sys.n_x,1)\n",
    "        sys.reset(x0)\n",
    "\n",
    "\n",
    "        for k in range(L):\n",
    "            u0 = random_u(u0)\n",
    "            sys.make_step(u0)\n",
    "\n",
    "        U_L.append(sys.u.reshape(-1,1))\n",
    "        Y_L.append(sys.y.reshape(-1,1))\n",
    "\n",
    "    U_L = np.concatenate(U_L,axis=1)\n",
    "    Y_L = np.concatenate(Y_L,axis=1)\n",
    "\n",
    "    # Add noise to Data:\n",
    "    Y_L = Y_L+np.random.randn(*Y_L.shape)*sig_w\n",
    "\n",
    "    assert np.linalg.matrix_rank(U_L) == U_L.shape[0], \"not persistantly exciting.\"\n",
    "    \n",
    "    return U_L, Y_L"
   ]
  },
  {
   "cell_type": "markdown",
   "metadata": {},
   "source": [
    "## SPC\n",
    "\n",
    "We now define functions that return the configured optimal control problems for DeePC and SPC based on the multi-step prediction model.\n",
    "\n",
    "These functions depend on $U_L$ and $Y_L$.\n",
    "\n",
    "The optimization problem for SPC is:\n",
    "\n",
    "\\begin{align}\n",
    "    \\min_{u_N,y_N, \\sigma_{y}, \\sigma_{u}}\\quad &\\sum_{k=1}^N \\left(\\|y_k\\|^2_{Q}+\\|u_k\\|^2_{R}\\right)\n",
    "    +\\lambda_{\\sigma_y}\\|\\sigma_{y}\\|_2^2 +\\lambda_{\\sigma_u}\\|\\sigma_{u}\\|_2^2\\\\\n",
    "    \\text{s.t.}\\quad &\n",
    "    y_N = \n",
    "    \\tilde P^*\n",
    "    \\left(\n",
    "    \\begin{bmatrix}\n",
    "        y_{T_{\\text{ini}}}\\\\\n",
    "        u_{T_{\\text{ini}}}\\\\\n",
    "        u_{N},\n",
    "    \\end{bmatrix}+\n",
    "    \\begin{bmatrix}\n",
    "        \\sigma_y\\\\\n",
    "        \\sigma_u\\\\\n",
    "        0,\n",
    "    \\end{bmatrix}\n",
    "    \\right)\n",
    "    \\\\\n",
    "    &u_k \\in \\mathbb{U},\\ \\forall k\\in \\{1,\\dots,N\\},\t\\\\\n",
    "    &y_k \\in \\mathbb{Y},\\ \\forall k\\in \\{1,\\dots,N\\}.\t\\\\\n",
    "\\end{align}"
   ]
  },
  {
   "cell_type": "code",
   "execution_count": 8,
   "metadata": {},
   "outputs": [],
   "source": [
    "def setup_SPC(U_L, Y_L):\n",
    "    # Sys ID:\n",
    "    U_Tini, U_N = np.split(U_L, [n_u*T_ini],axis=0)\n",
    "    Y_Tini, Y_N = np.split(Y_L, [n_y*T_ini],axis=0)\n",
    "    \n",
    "    M = np.concatenate((Y_Tini, U_Tini, U_N))\n",
    "\n",
    "    P = Y_N@np.linalg.pinv(M)\n",
    "    \n",
    "    # Create optimization variables:\n",
    "    opt_x = struct_symMX([\n",
    "        entry('y_N', shape=(n_y), repeat=N),\n",
    "        entry('u_N', shape=(n_u), repeat=N),\n",
    "        entry('sig_y', shape=(n_y), repeat=T_ini),\n",
    "        entry('sig_u', shape=(n_u), repeat=T_ini)\n",
    "    ])\n",
    "\n",
    "    # Create parameters of the optimization problem\n",
    "    opt_p = struct_symMX([\n",
    "        entry('u_Tini', shape=(n_u), repeat=T_ini),\n",
    "        entry('y_Tini', shape=(n_y), repeat=T_ini),\n",
    "    ])\n",
    "\n",
    "    # Create numerical instances of the structures (holding all zeros as entries)\n",
    "    opt_x_num = opt_x(0)\n",
    "    opt_p_num = opt_p(0)\n",
    "    \n",
    "    # Create the objective:\n",
    "    obj = 0\n",
    "    for k in range(N):\n",
    "        obj += sum1(opt_x['y_N',k]**2)+0.1*sum1(opt_x['u_N', k]**2)\n",
    "        \n",
    "    for k in range(T_ini):\n",
    "        obj += 1e4*sum1(opt_x['sig_u',k]**2)+1e4*sum1(opt_x['sig_y',k]**2)\n",
    "\n",
    "\n",
    "    # Create the constraints:\n",
    "    b = vertcat(*opt_p['y_Tini'], *opt_p['u_Tini'], np.zeros((N*n_u,1)))\n",
    "    v = vertcat(*opt_x['sig_y'], *opt_x['sig_u'], *opt_x['u_N'])\n",
    "    y_N = vertcat(*opt_x['y_N'])\n",
    "    cons = P@(b+v)-y_N\n",
    "\n",
    "\n",
    "    # Create lower and upper bound structures and set all values to plus/minus infinity.\n",
    "    lbx = opt_x(-np.inf)\n",
    "    ubx = opt_x(np.inf)\n",
    "\n",
    "    # Set only bounds on u_N\n",
    "    lbx['u_N'] = -0.7\n",
    "    ubx['u_N'] = 0.7\n",
    "\n",
    "\n",
    "    # Create Optim\n",
    "    nlp = {'x':opt_x, 'f':obj, 'g':cons, 'p':opt_p}\n",
    "    S_spc = nlpsol('S', 'ipopt', nlp)\n",
    "    \n",
    "    return S_spc, opt_x_num, opt_p_num, lbx, ubx"
   ]
  },
  {
   "cell_type": "markdown",
   "metadata": {},
   "source": [
    "## DeePC problem\n",
    "\n",
    "For the non-deterministic case we implement the adapted DeePC problem:\n",
    "\n",
    "\\begin{aligned}\n",
    "\t\\min_{\n",
    "\t\tg,u_N, y_N, \\sigma_{y}, \\sigma_{u}\n",
    "\t}\\quad &\n",
    "\t\\sum_{k=1}^N \\left(\\|y_k\\|^2_{Q}+\\|u_k\\|^2_{R}\\right)\n",
    "\t+\\lambda_g \\|g\\|_2^2+\\lambda_{\\sigma_y}\\|\\sigma_{y}\\|_2^2 +\\lambda_{\\sigma_u}\\|\\sigma_{u}\\|_2^2\\\\\n",
    "\t\\text{s.t.}\\quad & \n",
    "\t\\left[\\begin{array}{c}\n",
    "\t\\tilde Y_{T_\\text{ini}}\\\\\n",
    "\tU_{T_\\text{ini}}\\\\\n",
    "\tU_{N}\\\\\n",
    "\t\\tilde Y_N\n",
    "\t\\end{array}\\right] g \n",
    "\t= \n",
    "\t\\left[\\begin{array}{c}\n",
    "\ty_{T_\\text{ini}}\\\\\n",
    "\tu_{T_\\text{ini}}\\\\\n",
    "\tu_{N}\\\\\n",
    "\ty_N\n",
    "\t\\end{array}\\right]\n",
    "\t+\n",
    "\t\\left[\\begin{array}{c}\n",
    "\t\\sigma_{y}\\\\\n",
    "\t\\sigma_{u}\\\\\n",
    "\t0\\\\\n",
    "\t0\n",
    "\t\\end{array}\\right]\n",
    "\t,\\\\\n",
    "\t&u_k \\in \\mathbb{U}\\ \\forall k\\in\\{1,\\dots,N\\},\t\\\\\n",
    "\t&y_k \\in \\mathbb{Y}\\ \\forall k\\in\\{1,\\dots,N\\}. \\\\\n",
    "\\end{aligned}\n",
    "\n",
    "Also note that the optimizer is configured such that the parameter $\\lambda_g$ can be set later. "
   ]
  },
  {
   "cell_type": "code",
   "execution_count": 9,
   "metadata": {},
   "outputs": [],
   "source": [
    "def setup_DeePC(U_L, Y_L, T):\n",
    "    # Configure data\n",
    "    U_Tini, U_N = np.split(U_L, [n_u*T_ini],axis=0)\n",
    "    Y_Tini, Y_N = np.split(Y_L, [n_y*T_ini],axis=0)\n",
    "    M = np.concatenate((Y_Tini, U_Tini, U_N))\n",
    "    \n",
    "    # Define optim variables\n",
    "    opt_x_dpc = struct_symMX([\n",
    "    entry('g', shape=(T)),\n",
    "    entry('u_N', shape=(n_u), repeat=N),\n",
    "    entry('y_N', shape=(n_y), repeat=N),\n",
    "    entry('sig_y', shape=(n_y), repeat=T_ini),\n",
    "    entry('sig_u', shape=(n_u), repeat=T_ini)\n",
    "    ])\n",
    "\n",
    "    opt_p_dpc = struct_symMX([\n",
    "        entry('u_Tini', shape=(n_u), repeat=T_ini),\n",
    "        entry('y_Tini', shape=(n_y), repeat=T_ini),\n",
    "        entry('lam_g'),\n",
    "    ])\n",
    "\n",
    "    opt_x_num_dpc = opt_x_dpc(0)\n",
    "    opt_p_num_dpc = opt_p_dpc(0)\n",
    "    \n",
    "\n",
    "    obj = 0\n",
    "    for k in range(N):\n",
    "        obj += sum1(opt_x_dpc['y_N',k]**2)+0.1*sum1(opt_x_dpc['u_N', k]**2)\n",
    "    \n",
    "    for k in range(T_ini):\n",
    "        obj += 1e4*sum1(opt_x_dpc['sig_u',k]**2)+1e4*sum1(opt_x_dpc['sig_y',k]**2)\n",
    "    \n",
    "    obj += opt_p_dpc['lam_g']*sum1(opt_x_dpc['g']**2)\n",
    "\n",
    "\n",
    "    # Create the constraints:\n",
    "    b = vertcat(*opt_p_dpc['y_Tini'], *opt_p_dpc['u_Tini'], DM.zeros((N*n_u,1)))\n",
    "    v = vertcat(*opt_x_dpc['sig_y'], *opt_x_dpc['sig_u'], *opt_x_dpc['u_N'])\n",
    "    y_N = vertcat(*opt_x_dpc['y_N'])\n",
    "    g = opt_x_dpc['g']\n",
    "    \n",
    "    cons = vertcat(\n",
    "        M@g-b-v,\n",
    "        Y_N@g-y_N\n",
    "    )\n",
    "    \n",
    "    # Create lower and upper bound structures and set all values to plus/minus infinity.\n",
    "    lbx_dpc = opt_x_dpc(-np.inf)\n",
    "    ubx_dpc = opt_x_dpc(np.inf)\n",
    "\n",
    "\n",
    "    # Set only bounds on u_N\n",
    "    lbx_dpc['u_N'] = -0.7\n",
    "    ubx_dpc['u_N'] = 0.7\n",
    "\n",
    "    # Create Optim\n",
    "    nlp = {'x':opt_x_dpc, 'f':obj, 'g':cons, 'p':opt_p_dpc}\n",
    "    S_dpc = nlpsol('S', 'ipopt', nlp)\n",
    "    \n",
    "    return S_dpc, opt_x_num_dpc, opt_p_num_dpc, lbx_dpc, ubx_dpc\n",
    "    "
   ]
  },
  {
   "cell_type": "markdown",
   "metadata": {},
   "source": [
    "# Closed-loop comparison:"
   ]
  },
  {
   "cell_type": "markdown",
   "metadata": {},
   "source": [
    "We check the closed-loop performance for $T=\\{100,150,200\\}$ and choose ``N_sim=60`` (number of closed-loop steps). Furthermore, every run is repeated ``N_exp=10`` times to compute average performances and computation times. "
   ]
  },
  {
   "cell_type": "code",
   "execution_count": 10,
   "metadata": {},
   "outputs": [],
   "source": [
    "T_arr = [100, 150, 200]\n",
    "N_sim = 60\n",
    "N_exp = 10"
   ]
  },
  {
   "cell_type": "markdown",
   "metadata": {},
   "source": [
    "### DeePC"
   ]
  },
  {
   "cell_type": "markdown",
   "metadata": {},
   "source": [
    "For every choosen $T$, we repeat ``N_sim`` times the following procedure:\n",
    "\n",
    "1. Set the random seed such that the input sequence is always identical.\n",
    "2. Stimulate the system with the (pseudo) random sequence. \n",
    "3. Obtain the initial condition of the system ($u_{T_{\\text{ini}}},\\ y_{T_{\\text{ini}}}$). These are always the same.\n",
    "4. Restore randomness (otherwise the experiments would be identical)\n",
    "5. Get data matrices $U_L$ and $Y_L$ for the choosen value of $T$.\n",
    "6. Get **DeePC optimizer** for these data matrices\n",
    "7. Run the control-loop with noise on the measured output."
   ]
  },
  {
   "cell_type": "code",
   "execution_count": 11,
   "metadata": {},
   "outputs": [],
   "source": [
    "# x0=np.zeros((2,1))\n",
    "# u0 = np.zeros((1,1))\n",
    "\n",
    "# print(\"x0\",x0)\n",
    "# print(\"x0.shape\",x0.shape)\n",
    "# print(\"u0\",u0)\n",
    "# print(\"u0.shape\",u0.shape)\n",
    "# print(\"self.A\",sys.A)\n",
    "# print(\"A.shape\",A.shape)\n",
    "# print(\"self.B\",sys.B)\n",
    "# print(\"B.shape\",B.shape)\n",
    "# x1 = sys.B@u0\n",
    "# print(\"x1\",x1)\n"
   ]
  },
  {
   "cell_type": "code",
   "execution_count": 12,
   "metadata": {},
   "outputs": [],
   "source": [
    "%%capture\n",
    "res_deePC = []\n",
    "for T in T_arr:\n",
    "        \n",
    "    # Repeat experiment 10 times.\n",
    "    res = []\n",
    "    for i in range(N_exp):\n",
    "        np.random.seed(12)\n",
    "        x0=np.zeros((sys.n_x,1)) #((2,1)) #\n",
    "        sys.reset(x0)\n",
    "        # Excitement\n",
    "        n_exc = 20\n",
    "        u0 = np.zeros((sys.n_u,1)) #((1,1)) #\n",
    "        \n",
    "            \n",
    "        for k in range(n_exc):\n",
    "            u0 = random_u(u0 = np.zeros((1,1)))\n",
    "            \n",
    "            # print(\"x0\",x0)\n",
    "            # print(\"x0.shape\",x0.shape)\n",
    "            # print(\"u0\",u0)\n",
    "            # print(\"u0.shape\",u0.shape)\n",
    "            # print(\"self.A\",sys.A)\n",
    "            # print(\"A.shape\",A.shape)\n",
    "            \n",
    "            sys.make_step(u0)\n",
    "        \n",
    "        for p in range(i):\n",
    "            # Restore randomness.\n",
    "            np.random.randn()\n",
    "\n",
    "        U_L, Y_L = get_data_matrices(T, sig_w)\n",
    "\n",
    "        S_dpc, opt_x_num_dpc, opt_p_num_dpc, lbx, ubx = setup_DeePC(U_L,Y_L,T)\n",
    "        \n",
    "        opt_p_num_dpc['lam_g'] = 1\n",
    "\n",
    "        cost = []\n",
    "        t_calc = []\n",
    "        for k in range(N_sim):\n",
    "\n",
    "            y_Tini = sys.y[-T_ini:,:]+sig_w*np.random.randn(T_ini,n_y)\n",
    "            u_Tini = sys.u[-T_ini:,:]\n",
    "\n",
    "            opt_p_num_dpc['y_Tini'] = vertsplit(y_Tini)\n",
    "            opt_p_num_dpc['u_Tini'] = vertsplit(u_Tini)\n",
    "\n",
    "            tic = time.time()\n",
    "            r = S_dpc(p=opt_p_num_dpc, lbg=0, ubg=0, lbx=lbx, ubx=ubx)\n",
    "            toc = time.time()\n",
    "\n",
    "            opt_x_num_dpc.master = r['x']    \n",
    "        \n",
    "            u0 = opt_x_num_dpc['u_N',0].full().reshape(-1,1)\n",
    "         \n",
    "            \n",
    "            y0 = sys.make_step(u0)\n",
    "\n",
    "            cost.append(.1*u0.T@u0+y0.T@y0)\n",
    "            t_calc.append(toc-tic)\n",
    "\n",
    "\n",
    "        res.append({'time':sys.time[n_exc:], 'u':sys.u[n_exc:], 'y':sys.y[n_exc:], 'cost': np.concatenate(cost),'t_calc': np.array(t_calc)})\n",
    "        \n",
    "    res_deePC.append(res)"
   ]
  },
  {
   "cell_type": "markdown",
   "metadata": {},
   "source": [
    "### SPC\n",
    "For every choosen $T$, we repeat ``N_sim`` times the following procedure:\n",
    "\n",
    "1. Set the random seed such that the input sequence is always identical.\n",
    "2. Stimulate the system with the (pseudo) random sequence. \n",
    "3. Obtain the initial condition of the system ($u_{T_{\\text{ini}}},\\ y_{T_{\\text{ini}}}$). These are always the same.\n",
    "4. Restore randomness (otherwise the experiments would be identical)\n",
    "5. Get data matrices $U_L$ and $Y_L$ for the choosen value of $T$.\n",
    "6. Get **MPC based on multi-step prediction model** optimizer for these data matrices (with system identification)\n",
    "7. Run the control-loop with noise on the measured output."
   ]
  },
  {
   "cell_type": "code",
   "execution_count": 13,
   "metadata": {},
   "outputs": [],
   "source": [
    "%%capture\n",
    "res_SPC = []\n",
    "for T in T_arr:\n",
    "        \n",
    "    # Repeat experiment 10 times.\n",
    "    res = []\n",
    "    for i in range(N_exp):\n",
    "        np.random.seed(12)\n",
    "        sys.reset(x0=np.zeros((sys.n_x,1)))\n",
    "        # Excitement\n",
    "        n_exc = 20\n",
    "        u0 = np.zeros((sys.n_u,1))\n",
    "        for k in range(n_exc):\n",
    "            u0 = random_u(u0)\n",
    "            sys.make_step(u0)\n",
    "        \n",
    "        for p in range(i):\n",
    "            # Restore randomness.\n",
    "            np.random.randn()\n",
    "\n",
    "        U_L, Y_L = get_data_matrices(T, sig_w)\n",
    "\n",
    "        S_mpc, opt_x_num, opt_p_num, lbx, ubx = setup_SPC(U_L,Y_L)\n",
    "\n",
    "        cost = []\n",
    "        t_calc = []\n",
    "        for k in range(N_sim):\n",
    "\n",
    "            y_ini = sys.y[-T_ini:,:]+sig_w*np.random.randn(T_ini,n_y)\n",
    "            u_ini = sys.u[-T_ini:,:]\n",
    "\n",
    "            opt_p_num['y_Tini'] = vertsplit(y_ini)\n",
    "            opt_p_num['u_Tini'] = vertsplit(u_ini)\n",
    "\n",
    "            tic = time.time()\n",
    "            r = S_mpc(p=opt_p_num, lbg=0, ubg=0, lbx=lbx, ubx=ubx)\n",
    "            toc = time.time()\n",
    "\n",
    "            opt_x_num.master = r['x']  \n",
    "\n",
    "            u0 = opt_x_num['u_N',0].full().reshape(-1,1)\n",
    "            y0 = sys.make_step(u0)\n",
    "\n",
    "            cost.append(.1*u0.T@u0+y0.T@y0)\n",
    "            t_calc.append(toc-tic)\n",
    "\n",
    "\n",
    "        res.append({'time':sys.time[n_exc:], 'u':sys.u[n_exc:], 'y':sys.y[n_exc:], 'cost': np.concatenate(cost),'t_calc': np.array(t_calc)})\n",
    "        \n",
    "    res_SPC.append(res)"
   ]
  },
  {
   "cell_type": "code",
   "execution_count": 14,
   "metadata": {},
   "outputs": [
    {
     "data": {
      "text/plain": [
       "{'mean_cost': [1398.58, 1398.892, 1398.667],\n",
       " 'std_cost': [0.166, 0.112, 0.366],\n",
       " 'mean_t_calc': [26.228, 30.341, 31.705],\n",
       " 'std_t_calc': [5.237, 3.867, 4.779]}"
      ]
     },
     "execution_count": 14,
     "metadata": {},
     "output_type": "execute_result"
    }
   ],
   "source": [
    "result_summary_SPC= {'mean_cost':[],'std_cost':[], 'mean_t_calc':[], 'std_t_calc':[]}\n",
    "\n",
    "for res_i in res_SPC:\n",
    "    cost = [np.sum(res_ik['cost']) for res_ik in res_i]\n",
    "    t_calc = [np.mean(res_ik['t_calc']) for res_ik in res_i]\n",
    "    result_summary_SPC['mean_cost'].append(np.round(np.mean(cost),3))\n",
    "    result_summary_SPC['std_cost'].append(np.round(np.std(cost),3))\n",
    "    result_summary_SPC['mean_t_calc'].append(np.round(np.mean(t_calc)*1e3,3))\n",
    "    result_summary_SPC['std_t_calc'].append(np.round(np.std(t_calc)*1e3,3))\n",
    "    \n",
    "result_summary_SPC"
   ]
  },
  {
   "cell_type": "code",
   "execution_count": 15,
   "metadata": {},
   "outputs": [
    {
     "data": {
      "text/plain": [
       "{'mean_cost': [67.937, 67.473, 68.706],\n",
       " 'std_cost': [0.306, 0.141, 1.013],\n",
       " 'mean_t_calc': [62.82, 82.16, 120.066],\n",
       " 'std_t_calc': [11.131, 9.873, 12.365]}"
      ]
     },
     "execution_count": 15,
     "metadata": {},
     "output_type": "execute_result"
    }
   ],
   "source": [
    "result_summary_deePC= {'mean_cost':[],'std_cost':[], 'mean_t_calc':[], 'std_t_calc':[]}\n",
    "\n",
    "for res_i in res_deePC:\n",
    "    cost = [np.sum(res_ik['cost']) for res_ik in res_i]\n",
    "    t_calc = [np.mean(res_ik['t_calc']) for res_ik in res_i]\n",
    "    result_summary_deePC['mean_cost'].append(np.round(np.mean(cost),3))\n",
    "    result_summary_deePC['std_cost'].append(np.round(np.std(cost),3))\n",
    "    result_summary_deePC['mean_t_calc'].append(np.round(np.mean(t_calc)*1e3,3))\n",
    "    result_summary_deePC['std_t_calc'].append(np.round(np.std(t_calc)*1e3,3))\n",
    "    \n",
    "result_summary_deePC"
   ]
  },
  {
   "cell_type": "markdown",
   "metadata": {},
   "source": [
    "We can also investigate why the cost for our propsed method is lower than with DeePC in the case for $T=100$, even though **Figure 2** in the paper (open-loop prediction) suggests that DeePC with $\\lambda_g=1$ works fine in that case."
   ]
  },
  {
   "cell_type": "code",
   "execution_count": 16,
   "metadata": {
    "scrolled": false
   },
   "outputs": [
    {
     "data": {
      "text/plain": [
       "Text(0.5, 1.0, 'SPC')"
      ]
     },
     "execution_count": 16,
     "metadata": {},
     "output_type": "execute_result"
    },
    {
     "data": {
      "image/png": "[encoded data removed]",
      "text/plain": [
       "<Figure size 1000x600 with 4 Axes>"
      ]
     },
     "metadata": {},
     "output_type": "display_data"
    }
   ],
   "source": [
    "fig, ax = plt.subplots(2,2,sharex=True, sharey=True, figsize=(10,6))\n",
    "\n",
    "T_plot = 0\n",
    "\n",
    "ax[0,0].plot(res_deePC[T_plot][0]['y'])\n",
    "ax[0,1].plot(res_SPC[T_plot][0]['y'])\n",
    "ax[0,0].set_ylabel(\"Output y\")\n",
    "\n",
    "ax[1,0].plot(res_deePC[T_plot][0]['u'])\n",
    "ax[1,1].plot(res_SPC[T_plot][0]['u'])\n",
    "ax[1,0].set_ylabel(\"Noisy input u\")\n",
    "\n",
    "ax[0,0].set_title('DeePC')\n",
    "ax[0,1].set_title('SPC')"
   ]
  },
  {
   "cell_type": "markdown",
   "metadata": {},
   "source": [
    "We see that the problem is the oscillatory behavior around the origin, which is present in both methods but more pronounced with DeePC."
   ]
  },
  {
   "cell_type": "markdown",
   "metadata": {},
   "source": [
    "## Further DeePC investigation\n",
    "Effect of $\\lambda_g$ for $T=150$."
   ]
  },
  {
   "cell_type": "code",
   "execution_count": 17,
   "metadata": {},
   "outputs": [],
   "source": [
    "lam_g_arr = [0.1, 10]\n",
    "T = 150"
   ]
  },
  {
   "cell_type": "code",
   "execution_count": 18,
   "metadata": {},
   "outputs": [
    {
     "ename": "ValueError",
     "evalue": "matmul: Input operand 1 has a mismatch in its core dimension 0, with gufunc signature (n?,k),(k,m?)->(n?,m?) (size 2 is different from 1)",
     "output_type": "error",
     "traceback": [
      "\u001b[1;31m---------------------------------------------------------------------------\u001b[0m",
      "\u001b[1;31mValueError\u001b[0m                                Traceback (most recent call last)",
      "\u001b[1;32mc:\\Users\\Konrad Dittrich\\git\\repos\\Model_Predictive_Control\\Assignments\\Paper_Discussion\\DeePC_Perspective-main\\ECC2021\\res_03_Noise_closed_loop.ipynb Cell 37\u001b[0m line \u001b[0;36m1\n\u001b[0;32m     <a href='vscode-notebook-cell:/c%3A/Users/Konrad%20Dittrich/git/repos/Model_Predictive_Control/Assignments/Paper_Discussion/DeePC_Perspective-main/ECC2021/res_03_Noise_closed_loop.ipynb#X50sZmlsZQ%3D%3D?line=11'>12</a>\u001b[0m \u001b[39mfor\u001b[39;00m k \u001b[39min\u001b[39;00m \u001b[39mrange\u001b[39m(n_exc):\n\u001b[0;32m     <a href='vscode-notebook-cell:/c%3A/Users/Konrad%20Dittrich/git/repos/Model_Predictive_Control/Assignments/Paper_Discussion/DeePC_Perspective-main/ECC2021/res_03_Noise_closed_loop.ipynb#X50sZmlsZQ%3D%3D?line=12'>13</a>\u001b[0m     u0 \u001b[39m=\u001b[39m random_u(u0)\n\u001b[1;32m---> <a href='vscode-notebook-cell:/c%3A/Users/Konrad%20Dittrich/git/repos/Model_Predictive_Control/Assignments/Paper_Discussion/DeePC_Perspective-main/ECC2021/res_03_Noise_closed_loop.ipynb#X50sZmlsZQ%3D%3D?line=13'>14</a>\u001b[0m     sys\u001b[39m.\u001b[39;49mmake_step(u0)\n\u001b[0;32m     <a href='vscode-notebook-cell:/c%3A/Users/Konrad%20Dittrich/git/repos/Model_Predictive_Control/Assignments/Paper_Discussion/DeePC_Perspective-main/ECC2021/res_03_Noise_closed_loop.ipynb#X50sZmlsZQ%3D%3D?line=15'>16</a>\u001b[0m \u001b[39mfor\u001b[39;00m p \u001b[39min\u001b[39;00m \u001b[39mrange\u001b[39m(i):\n\u001b[0;32m     <a href='vscode-notebook-cell:/c%3A/Users/Konrad%20Dittrich/git/repos/Model_Predictive_Control/Assignments/Paper_Discussion/DeePC_Perspective-main/ECC2021/res_03_Noise_closed_loop.ipynb#X50sZmlsZQ%3D%3D?line=16'>17</a>\u001b[0m     \u001b[39m# Restore randomness.\u001b[39;00m\n\u001b[0;32m     <a href='vscode-notebook-cell:/c%3A/Users/Konrad%20Dittrich/git/repos/Model_Predictive_Control/Assignments/Paper_Discussion/DeePC_Perspective-main/ECC2021/res_03_Noise_closed_loop.ipynb#X50sZmlsZQ%3D%3D?line=17'>18</a>\u001b[0m     np\u001b[39m.\u001b[39mrandom\u001b[39m.\u001b[39mrandn()\n",
      "File \u001b[1;32mc:\\Users\\Konrad Dittrich\\git\\repos\\Model_Predictive_Control\\Assignments\\Paper_Discussion\\DeePC_Perspective-main\\ECC2021\\sources\\System.py:59\u001b[0m, in \u001b[0;36mSystem.make_step\u001b[1;34m(self, u)\u001b[0m\n\u001b[0;32m     56\u001b[0m \u001b[39mself\u001b[39m\u001b[39m.\u001b[39m_y\u001b[39m.\u001b[39mappend(y)\n\u001b[0;32m     57\u001b[0m \u001b[39mself\u001b[39m\u001b[39m.\u001b[39m_time\u001b[39m.\u001b[39mappend(\u001b[39mself\u001b[39m\u001b[39m.\u001b[39mt_now)\n\u001b[1;32m---> 59\u001b[0m \u001b[39mself\u001b[39m\u001b[39m.\u001b[39mx0 \u001b[39m=\u001b[39m \u001b[39mself\u001b[39m\u001b[39m.\u001b[39mA\u001b[39m@self\u001b[39m\u001b[39m.\u001b[39mx0 \u001b[39m+\u001b[39m \u001b[39mself\u001b[39;49m\u001b[39m.\u001b[39;49mB\u001b[39m@u\u001b[39;49m\n\u001b[0;32m     61\u001b[0m \u001b[39mself\u001b[39m\u001b[39m.\u001b[39mt_now \u001b[39m+\u001b[39m\u001b[39m=\u001b[39m \u001b[39mself\u001b[39m\u001b[39m.\u001b[39mdt\n\u001b[0;32m     63\u001b[0m \u001b[39mreturn\u001b[39;00m y\n",
      "\u001b[1;31mValueError\u001b[0m: matmul: Input operand 1 has a mismatch in its core dimension 0, with gufunc signature (n?,k),(k,m?)->(n?,m?) (size 2 is different from 1)"
     ]
    }
   ],
   "source": [
    "%%capture\n",
    "res_deePC_T150 = []\n",
    "for lam_g in lam_g_arr:\n",
    "        \n",
    "    # Repeat experiment 10 times.\n",
    "    res = []\n",
    "    for i in range(N_exp):\n",
    "        np.random.seed(12)\n",
    "        sys.reset(x0=np.zeros((sys.n_x,1)))\n",
    "        # Excitement\n",
    "        n_exc = 20\n",
    "        u0 = np.zeros((2,1))\n",
    "        for k in range(n_exc):\n",
    "            u0 = random_u(u0)\n",
    "            sys.make_step(u0)\n",
    "        \n",
    "        for p in range(i):\n",
    "            # Restore randomness.\n",
    "            np.random.randn()\n",
    "\n",
    "        U_L, Y_L = get_data_matrices(T, sig_w)\n",
    "\n",
    "        S_dpc, opt_x_num_dpc, opt_p_num_dpc, lbx, ubx = setup_DeePC(U_L,Y_L,T)\n",
    "        \n",
    "        opt_p_num_dpc['lam_g'] = lam_g\n",
    "\n",
    "        cost = []\n",
    "        t_calc = []\n",
    "        for k in range(N_sim):\n",
    "\n",
    "            y_Tini = sys.y[-T_ini:,:]+sig_w*np.random.randn(T_ini,n_y)\n",
    "            u_Tini = sys.u[-T_ini:,:]\n",
    "\n",
    "            opt_p_num_dpc['y_Tini'] = vertsplit(y_Tini)\n",
    "            opt_p_num_dpc['u_Tini'] = vertsplit(u_Tini)\n",
    "\n",
    "            tic = time.time()\n",
    "            r = S_dpc(p=opt_p_num_dpc, lbg=0, ubg=0, lbx=lbx, ubx=ubx)\n",
    "            toc = time.time()\n",
    "\n",
    "            opt_x_num_dpc.master = r['x']    \n",
    "        \n",
    "            u0 = opt_x_num_dpc['u_N',0].full().reshape(-1,1)\n",
    "            y0 = sys.make_step(u0)\n",
    "\n",
    "            cost.append(.1*u0.T@u0+y0.T@y0)\n",
    "            t_calc.append(toc-tic)\n",
    "\n",
    "\n",
    "        res.append({'time':sys.time[n_exc:], 'u':sys.u[n_exc:], 'y':sys.y[n_exc:], 'cost': np.concatenate(cost),'t_calc': np.array(t_calc)})\n",
    "        \n",
    "    res_deePC_T150.append(res)"
   ]
  },
  {
   "cell_type": "code",
   "execution_count": null,
   "metadata": {},
   "outputs": [],
   "source": [
    "result_summary_deePC_T150= {'mean_cost':[],'std_cost':[], 'mean_t_calc':[], 'std_t_calc':[]}\n",
    "\n",
    "for res_i in res_deePC_T150:\n",
    "    cost = [np.sum(res_ik['cost']) for res_ik in res_i]\n",
    "    t_calc = [np.mean(res_ik['t_calc']) for res_ik in res_i]\n",
    "    result_summary_deePC_T150['mean_cost'].append(np.round(np.mean(cost),3))\n",
    "    result_summary_deePC_T150['std_cost'].append(np.round(np.std(cost),3))\n",
    "    result_summary_deePC_T150['mean_t_calc'].append(np.round(np.mean(t_calc)*1e3,3))\n",
    "    result_summary_deePC_T150['std_t_calc'].append(np.round(np.std(t_calc)*1e3,3))\n",
    "    \n",
    "result_summary_deePC_T150"
   ]
  },
  {
   "cell_type": "code",
   "execution_count": null,
   "metadata": {},
   "outputs": [],
   "source": []
  }
 ],
 "metadata": {
  "kernelspec": {
   "display_name": "MPC-KD",
   "language": "python",
   "name": "python3"
  },
  "language_info": {
   "codemirror_mode": {
    "name": "ipython",
    "version": 3
   },
   "file_extension": ".py",
   "mimetype": "text/x-python",
   "name": "python",
   "nbconvert_exporter": "python",
   "pygments_lexer": "ipython3",
   "version": "3.11.5"
  }
 },
 "nbformat": 4,
 "nbformat_minor": 4
}
